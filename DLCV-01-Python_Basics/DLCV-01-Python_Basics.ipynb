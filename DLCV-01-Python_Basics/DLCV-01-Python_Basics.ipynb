{
 "cells": [
  {
   "cell_type": "markdown",
   "id": "e1ebc915",
   "metadata": {},
   "source": [
    "## Python"
   ]
  },
  {
   "cell_type": "markdown",
   "id": "8020ae16",
   "metadata": {},
   "source": [
    "Python is a general-purpose, high-level and interpreted programming language and dynamically typed semantics. It is also an object-oriented programming languge. To run a simple Python program, you can simply run the following command in your Python interpreter.\n",
    "\n",
    "`print('Hello, World!')`\n",
    "\n",
    "**Bingo!!! Once you can run that simple program, you are ready to go!!!**"
   ]
  },
  {
   "cell_type": "markdown",
   "id": "a010d576",
   "metadata": {},
   "source": [
    "#### Example"
   ]
  },
  {
   "cell_type": "code",
   "execution_count": 9,
   "id": "aa9577c1",
   "metadata": {},
   "outputs": [
    {
     "name": "stdout",
     "output_type": "stream",
     "text": [
      "Hello, World!\n"
     ]
    }
   ],
   "source": [
    "print('Hello, World!')"
   ]
  },
  {
   "cell_type": "markdown",
   "id": "dc6f22a2",
   "metadata": {},
   "source": [
    "### Data Types\n",
    "\n",
    "1. [String](#string)\n",
    "2. [Integer](#integer)\n",
    "3. [Float](#float)\n",
    "4. [Complex](#complex)\n",
    "5. [Boolean](#boolean)\n",
    "6. [List](#list)\n",
    "7. [Set](#set)\n",
    "8. [Tuple](#tuple)\n",
    "9. [Dictionary](#dictionary)\n",
    "10. None"
   ]
  },
  {
   "cell_type": "markdown",
   "id": "cc6aae8f",
   "metadata": {},
   "source": [
    "#### 1. String <a id=\"string\"><a/>\n",
    "A string can be a single character or a sequence of characters.\n",
    "\n",
    "`x = \"a\"` \\\n",
    "`x = 'b'` \\\n",
    "`y = \"cat\"` \\\n",
    "`x = 'This is a sentence.'` \\\n",
    "`x = \"\"\"This is docstrings or multi-line comments\"\"\"`\n",
    "\n",
    "All the string values are assigned in `x` or `y` variables.\n",
    "\n",
    "<img src='img/operands.png' alt=\"Operator and Operands\" width=\"200px\" style=\"float: center\" />\n",
    "<br clear=\"left\" />"
   ]
  },
  {
   "cell_type": "markdown",
   "id": "bc45cc2c",
   "metadata": {},
   "source": [
    "#### Examples"
   ]
  },
  {
   "cell_type": "code",
   "execution_count": 10,
   "id": "0cc59f04",
   "metadata": {},
   "outputs": [
    {
     "name": "stdout",
     "output_type": "stream",
     "text": [
      "First x:  a\n",
      "Second x:  b\n",
      "cat\n",
      "Third x:  This is a sentence.\n",
      "Fourth x:  This is docstrings or multi-line comments\n"
     ]
    }
   ],
   "source": [
    "x = \"a\"\n",
    "print(\"First x: \", x)\n",
    "\n",
    "x = 'b'\n",
    "print(\"Second x: \", x)\n",
    "\n",
    "y = \"cat\"\n",
    "print(y)\n",
    "\n",
    "x = 'This is a sentence.'\n",
    "print(\"Third x: \", x)\n",
    "\n",
    "x = \"\"\"This is docstrings or multi-line comments\"\"\"\n",
    "print(\"Fourth x: \", x)"
   ]
  },
  {
   "cell_type": "markdown",
   "id": "5426e9e7",
   "metadata": {},
   "source": [
    "#### 2. Integer <a id=\"integer\"><a/>\n",
    "An integer is a numeric data type that represents whole numbers. In other words, integers are numbers that have no fractional or decimal part. Integers can be positive, negative or zero.\n",
    "\n",
    "`x = 1` \\\n",
    "`negative_integer = -10` \\\n",
    "`y = 1009` \\\n",
    "`zeroValue = 0`\n",
    "\n",
    "When you combine an integer with any string or when you put an integer into `\"-\"` quotes, the data type is always changed to `string` value.\n",
    "\n",
    "`x = \"24\"` << this is a string \\\n",
    "`friday13 = \"Friday the 13.\"` \\\n",
    "`x = 13`, `y = \"Friday \"`, `z = x + y` << this will output `Friday 13` which is also a string. \\\n",
    "`concat_string = 'Friday' + \" \" + str(13)` << this is also a string"
   ]
  },
  {
   "cell_type": "markdown",
   "id": "d8c68bcb",
   "metadata": {},
   "source": [
    "#### Examples"
   ]
  },
  {
   "cell_type": "code",
   "execution_count": 11,
   "id": "35859cf2",
   "metadata": {},
   "outputs": [
    {
     "name": "stdout",
     "output_type": "stream",
     "text": [
      "First x:  1\n",
      "<class 'int'>\n",
      "Second x:  24\n",
      "Type of x before:  <class 'str'>\n",
      "Type of x after:  <class 'str'>\n",
      "Type of friday13:  <class 'str'>\n",
      "13\n",
      "<class 'str'>\n",
      "<class 'str'>\n"
     ]
    }
   ],
   "source": [
    "x = 1\n",
    "print(\"First x: \", x)\n",
    "print(type(x))\n",
    "\n",
    "negative_integer = -10\n",
    "y = 1009\n",
    "zeroValue = 0\n",
    "\n",
    "x = \"24\"  # this is a string\n",
    "print(\"Second x: \", x)\n",
    "print(\"Type of x before: \", type(x))\n",
    "print(\"Type of x after: \", type(str(x)))\n",
    "\n",
    "friday13 = \"Friday the 13.\"\n",
    "print(\"Type of friday13: \", type(friday13))\n",
    "\n",
    "x = 13\n",
    "y = \"Friday \"\n",
    "z = str(x) + y\n",
    "print(x)\n",
    "\n",
    "concat_string = 'Friday' + \" \" + str(13)\n",
    "print(type(str(13)))\n",
    "print(type(\"13\"))"
   ]
  },
  {
   "cell_type": "markdown",
   "id": "118c4ef2",
   "metadata": {},
   "source": [
    "#### 3. Float <a id=\"float\"><a/>\n",
    "\n",
    "A float data type is also a numeric type that has fractional or decimal part. Unlike other programming languages, Python float data type represents any precision number. \n",
    "\n",
    "$\\textit{PS. This is a different scenario when you use python library packages such as numpy or pytorch where we have precision sensitive data types}$\n",
    "\n",
    "`x = 3.14` \\\n",
    "`x = 3.1416` \\\n",
    "`pi = 3.1415926535` \\\n",
    "`npower = 1.7e-3` << this is equal to $1.7 x 10^{-3}$ or $0.0017$ \\\n",
    "`ppower = 1.7e3` << this is equal to $1.7 x 10^{3}$ or $1700$ "
   ]
  },
  {
   "cell_type": "markdown",
   "id": "144aeb0d",
   "metadata": {},
   "source": [
    "#### Examples"
   ]
  },
  {
   "cell_type": "code",
   "execution_count": 12,
   "id": "7d7c7a06",
   "metadata": {},
   "outputs": [
    {
     "name": "stdout",
     "output_type": "stream",
     "text": [
      "0.0017\n"
     ]
    }
   ],
   "source": [
    "npower = 1.7e-3\n",
    "print(npower)"
   ]
  },
  {
   "cell_type": "markdown",
   "id": "5e4a1781",
   "metadata": {},
   "source": [
    "#### 4. Complex <a id=\"complex\"><a/>\n",
    "\n",
    "A complex number is specified as real part and imginary part where the imaginary part is written with a `j` or `J`\n",
    "\n",
    "`x = 5j` \\\n",
    "`y = 3 + 5j`"
   ]
  },
  {
   "cell_type": "markdown",
   "id": "113061d0",
   "metadata": {},
   "source": [
    "#### Examples"
   ]
  },
  {
   "cell_type": "code",
   "execution_count": 13,
   "id": "64bcbc01",
   "metadata": {},
   "outputs": [
    {
     "name": "stdout",
     "output_type": "stream",
     "text": [
      "5.0\n",
      "3.0\n"
     ]
    }
   ],
   "source": [
    "y = 3 + 5j\n",
    "print(y.imag)\n",
    "print(y.real)"
   ]
  },
  {
   "cell_type": "markdown",
   "id": "1bc0b6e0",
   "metadata": {},
   "source": [
    "#### 5. Boolean <a id=\"boolean\"><a/>\n",
    "\n",
    "A boolean data type represents one of the two values from True and False.\n",
    "\n",
    "`x = True` \\\n",
    "`y = False`"
   ]
  },
  {
   "cell_type": "markdown",
   "id": "5451f52d",
   "metadata": {},
   "source": [
    "#### Examples"
   ]
  },
  {
   "cell_type": "code",
   "execution_count": 14,
   "id": "38d7711f",
   "metadata": {},
   "outputs": [
    {
     "name": "stdout",
     "output_type": "stream",
     "text": [
      "False\n",
      "True\n"
     ]
    }
   ],
   "source": [
    "x = True\n",
    "y = False\n",
    "\n",
    "print(y)\n",
    "print(x)"
   ]
  },
  {
   "cell_type": "markdown",
   "id": "e95e4c43",
   "metadata": {},
   "source": [
    "#### 6. List <a id=\"list\"><a/>\n",
    "\n",
    "A list in Python includes zero or more elements between square brackets. The elements can be of different data types such as strings, integers, booleans, objects or even lists. A list has some useful properties:\n",
    "- A list is ordered\n",
    "- Elements in a list can be accessed by index\n",
    "- A list can have any type of object\n",
    "- A list is mutable\n",
    "\n",
    "`empty_list = []` \\\n",
    "`x = ['a', 'cat', 12, 3.14]` \\\n",
    "`listy = [['a', 'cat', 12, 3.14], [\"This is a nested list\", 1995, True]]`"
   ]
  },
  {
   "cell_type": "markdown",
   "id": "ffffe93b",
   "metadata": {},
   "source": [
    "#### Examples"
   ]
  },
  {
   "cell_type": "code",
   "execution_count": 15,
   "id": "55f5c5e1",
   "metadata": {},
   "outputs": [
    {
     "name": "stdout",
     "output_type": "stream",
     "text": [
      "Empty list:  []\n",
      "Nested list:  [['a', 'cat', 12, 3.14], ['This is a nested list', 1995, '3.14', '0952345676', True]]\n"
     ]
    }
   ],
   "source": [
    "empty_list = []\n",
    "print(\"Empty list: \", empty_list)\n",
    "\n",
    "x = ['a', 'cat', 12, 3.14]\n",
    "listy = [['a', 'cat', 12, 3.14], [\"This is a nested list\", 1995, '3.14', '0952345676', True]]\n",
    "\n",
    "print(\"Nested list: \", listy)"
   ]
  },
  {
   "cell_type": "markdown",
   "id": "eecb2f3c",
   "metadata": {},
   "source": [
    "##### Indexing\n",
    "\n",
    "To extract a value from the list, you can access from the index number of the respective element.\n",
    "\n",
    "`x = ['a', 'cat', 12, 3.14]` \\\n",
    "`x[0]` << return 'a' \\\n",
    "`x[1]` << return 'cat' \\\n",
    "`x[2]` << return 12 \\\n",
    "`x[3]` << return 3.14\n",
    "\n",
    "When you are indexing nested list, you can use indexes inside multiple square brackets where the earlier one represents the outer list while the later one(s) represent(s) inner list(s) sequentially.\n",
    "\n",
    "<img src=\"img/nested_list.png\" alt=\"Nested List\" width=\"500px\" style=\"float: center\" />\n",
    "<br clear=\"left\" />\n",
    "\n",
    "You can also use the negative indexing in a list or nested list.\n",
    "\n",
    "<img src=\"img/negative_index.png\" alt=\"Negative Index\" width=\"500px\" style=\"float: center\" />\n",
    "<br clear=\"left\" />"
   ]
  },
  {
   "cell_type": "markdown",
   "id": "2aa1d91a",
   "metadata": {},
   "source": [
    "#### Examples"
   ]
  },
  {
   "cell_type": "code",
   "execution_count": 16,
   "id": "13d10c25",
   "metadata": {},
   "outputs": [
    {
     "name": "stdout",
     "output_type": "stream",
     "text": [
      "Index 0:  a\n",
      "Index 1:  cat\n",
      "Index 2:  12\n",
      "Index 3:  3.14\n",
      "Reverse Index -3:  cat\n"
     ]
    }
   ],
   "source": [
    "x = ['a', 'cat', 12, 3.14]\n",
    "print(\"Index 0: \", x[0]) \n",
    "print(\"Index 1: \", x[1]) \n",
    "print(\"Index 2: \", x[2]) \n",
    "print(\"Index 3: \", x[3]) \n",
    "print(\"Reverse Index -3: \", x[-3])"
   ]
  },
  {
   "cell_type": "markdown",
   "id": "8eb122e9",
   "metadata": {},
   "source": [
    "##### Replacing values in a list\n",
    "\n",
    "You can replace any value in a list by accessing the index location and assign a new value. The replaced data type can be any type.\n",
    "\n",
    "`x = ['a', 'cat', 12, 3.14]` \\\n",
    "`x[0] = 'b'` << this replace the first element with a string value `'b'` \\\n",
    "`x[0] = 1` << this replace the first element with an integer value `1` \\"
   ]
  },
  {
   "cell_type": "markdown",
   "id": "92a07700",
   "metadata": {},
   "source": [
    "#### Examples"
   ]
  },
  {
   "cell_type": "code",
   "execution_count": 17,
   "id": "ac6ff3e8",
   "metadata": {},
   "outputs": [
    {
     "name": "stdout",
     "output_type": "stream",
     "text": [
      "Replaced value of x at index 0:  b\n",
      "Replaced value of x at index 1:  11\n",
      "['b', 11, 12, 3.14]\n"
     ]
    }
   ],
   "source": [
    "x = ['a', 'cat', 12, 3.14]\n",
    "x[0] = 'b'\n",
    "\n",
    "print(\"Replaced value of x at index 0: \", x[0])\n",
    "x[1] = 11\n",
    "print(\"Replaced value of x at index 1: \", x[1])\n",
    "print(x)"
   ]
  },
  {
   "cell_type": "markdown",
   "id": "47727b9e",
   "metadata": {},
   "source": [
    "##### Slicing a list\n",
    "\n",
    "`l = ['a', 'b', 'c', 'd', 'e', 'f']` \\\n",
    "`l[1:3]` << returns ['b', 'c'] \\\n",
    "`l[:3]` << returns ['a', 'b', 'c'] \\\n",
    "`l[3:5]` << returns ['d', 'e'] \\\n",
    "`l[3:6]` << returns ['d', 'e', 'f'] \\\n",
    "`l[3:]` << returns ['d', 'e', 'f'] \\\n",
    "`l[::2]` << returns ['a', 'c', 'e'] which is step=2 slicing"
   ]
  },
  {
   "cell_type": "markdown",
   "id": "bed35629",
   "metadata": {},
   "source": [
    "#### Examples"
   ]
  },
  {
   "cell_type": "code",
   "execution_count": 18,
   "id": "7935cff9",
   "metadata": {},
   "outputs": [
    {
     "name": "stdout",
     "output_type": "stream",
     "text": [
      "Slice l[1:3]:  ['b', 'c']\n",
      "Slice l[:3]:  ['a', 'b', 'c']\n",
      "Slice l[3:5]:  ['d', 'e']\n",
      "Slice l[3:6]:  ['d', 'e', 'f']\n",
      "Slice l[3:]:  ['d', 'e', 'f']\n",
      "Slice l[::2]:  ['a', 'c', 'e']\n",
      "Slice l[::2]:  ['a', 'c', 'e']\n"
     ]
    }
   ],
   "source": [
    "l = ['a', 'b', 'c', 'd', 'e', 'f']\n",
    "\n",
    "print(\"Slice l[1:3]: \", l[1:3]) # returns ['b', 'c']\n",
    "print(\"Slice l[:3]: \", l[:3]) # returns ['a', 'b', 'c']\n",
    "print(\"Slice l[3:5]: \", l[3:5]) # returns ['d', 'e']\n",
    "print(\"Slice l[3:6]: \", l[3:6]) # returns ['d', 'e', 'f']\n",
    "print(\"Slice l[3:]: \", l[3:]) # returns ['d', 'e', 'f']\n",
    "print(\"Slice l[::2]: \", l[::2]) # returns ['a', 'c', 'e'] which is step=2 slicing\n",
    "\n",
    "print(\"Slice l[::2]: \", l[::2]) # l[starts:ends:steps]"
   ]
  },
  {
   "cell_type": "markdown",
   "id": "96e706ea",
   "metadata": {},
   "source": [
    "##### Constructors and methods that can be applied in a list\n",
    "\n",
    "- `len()`\n",
    "- `append()`\n",
    "- `insert()`\n",
    "- `extend()`\n",
    "- `pop()`\n",
    "- `remove()`\n",
    "- `sorted()`\n",
    "- `sort()`\n",
    "- `reverse()`\n",
    "- `index()`\n",
    "- `count()`\n",
    "- `copy()`\n",
    "- `sum()`\n",
    "- `min()`, `max()`"
   ]
  },
  {
   "cell_type": "markdown",
   "id": "3dcd73e0",
   "metadata": {},
   "source": [
    "#### Examples"
   ]
  },
  {
   "cell_type": "code",
   "execution_count": 19,
   "id": "82e1ca40",
   "metadata": {},
   "outputs": [
    {
     "name": "stdout",
     "output_type": "stream",
     "text": [
      "Length of list l:  6\n",
      "Length of string s:  11\n",
      "List after appending s string ['a', 'b', 'c', 'd', 'e', 'f', 'Tanawin Two']\n",
      "List after inserting s string at index 1 ['a', 'Tanawin Two', 'b', 'c', 'd', 'e', 'f', 'Tanawin Two']\n"
     ]
    }
   ],
   "source": [
    "l = ['a', 'b', 'c', 'd', 'e', 'f']\n",
    "s = 'Tanawin Two'\n",
    "print(\"Length of list l: \", len(l))\n",
    "print(\"Length of string s: \", len(s))\n",
    "\n",
    "l.append(s)\n",
    "print(\"List after appending s string\", l)\n",
    "\n",
    "l.insert(1, s)\n",
    "print(\"List after inserting s string at index 1\", l)"
   ]
  },
  {
   "cell_type": "markdown",
   "id": "56469277",
   "metadata": {},
   "source": [
    "#### 7. Set <a id=\"set\"><a/>\n",
    "\n",
    "A set in Python is similar to a list however they have some different properties. \n",
    "- A set is written in a curly bracket  \n",
    "- A set is unordered\n",
    "- Elements in a set are unique\n",
    "- A set is mutable\n",
    "\n"
   ]
  },
  {
   "cell_type": "markdown",
   "id": "e8cda857",
   "metadata": {},
   "source": [
    "#### Examples"
   ]
  },
  {
   "cell_type": "code",
   "execution_count": 20,
   "id": "10c38321",
   "metadata": {},
   "outputs": [
    {
     "name": "stdout",
     "output_type": "stream",
     "text": [
      "Integer set_x:  {1, 2, 3}\n",
      "Unordered set_x:  {1, 2, 3, 4, 'c', 'b', 'd', 'a'}\n",
      "Unique set_x:  {1, 2, 3, 4, 'a', 'c', 'b'}\n",
      "########################\n",
      "Error while indexing set\n"
     ]
    }
   ],
   "source": [
    "set_x = {1, 2, 3}\n",
    "print(\"Integer set_x: \", set_x)\n",
    "\n",
    "set_x = {\"a\", \"b\", \"d\", \"c\", 1, 3, 2, 4}\n",
    "print(\"Unordered set_x: \", set_x)\n",
    "\n",
    "set_x = {\"a\", \"b\", \"a\", \"a\", \"c\", 1, 1, 2, 3, 4}\n",
    "print(\"Unique set_x: \", set_x)\n",
    "\n",
    "print(\"########################\")\n",
    "print(\"Error while indexing set\")"
   ]
  },
  {
   "cell_type": "markdown",
   "id": "0444edee",
   "metadata": {},
   "source": [
    "##### Constructors and methods that can be applied in a set\n",
    "- `union()`\n",
    "- `update()`\n",
    "- `intersection()`\n",
    "- `difference()`\n",
    "- `sum()`"
   ]
  },
  {
   "cell_type": "markdown",
   "id": "dfb20305",
   "metadata": {},
   "source": [
    "#### Examples"
   ]
  },
  {
   "cell_type": "code",
   "execution_count": 21,
   "id": "eefed7f8",
   "metadata": {},
   "outputs": [
    {
     "name": "stdout",
     "output_type": "stream",
     "text": [
      "Union of two sets option 1:  {1, 2, 3, 4, 5}\n",
      "Union of two sets option 2:  {1, 2, 3, 4, 5}\n",
      "Intersection of two sets option 1:  {1, 2}\n",
      "Intersection of two sets option 2:  {1, 2}\n",
      "Update a set returns:  None\n",
      "Updated set_x {1, 2, 3, 4, 5}\n"
     ]
    }
   ],
   "source": [
    "set_x = {1, 2, 3}\n",
    "set_y = {1, 2, 4, 5}\n",
    "\n",
    "print(\"Union of two sets option 1: \", set_x.union(set_y))\n",
    "print(\"Union of two sets option 2: \", set_x.union(set_y))\n",
    "\n",
    "print(\"Intersection of two sets option 1: \", set_x.intersection(set_y))\n",
    "print(\"Intersection of two sets option 2: \", set_y.intersection(set_x))\n",
    "\n",
    "print(\"Update a set returns: \", set_x.update(set_y))\n",
    "print(\"Updated set_x\", set_x)"
   ]
  },
  {
   "cell_type": "markdown",
   "id": "4ee180f3",
   "metadata": {},
   "source": [
    "#### 8. Tuple <a id=\"tuple\"><a/>\n",
    "A tuple is also similar to a list and ordered collection of values put inside parentheses or sometimes no parentheses at all.\n",
    "- A tuple is ordered\n",
    "- A tuple is assessible by index\n",
    "- A tuple is immutable"
   ]
  },
  {
   "cell_type": "markdown",
   "id": "6fb8f401",
   "metadata": {},
   "source": [
    "#### Examples"
   ]
  },
  {
   "cell_type": "code",
   "execution_count": 22,
   "id": "e46d0e47",
   "metadata": {},
   "outputs": [
    {
     "name": "stdout",
     "output_type": "stream",
     "text": [
      "tuple_x:  (1, 2, 3, 5, 4)\n",
      "Indexing a tuple 1\n",
      "Slicing a tuple (1, 2, 3)\n",
      "###############################\n",
      "Immutable error while editing a tuple: \n"
     ]
    }
   ],
   "source": [
    "tuple_x = (1, 2, 3, 5, 4)\n",
    "print(\"tuple_x: \", tuple_x)\n",
    "\n",
    "print(\"Indexing a tuple\", tuple_x[0])\n",
    "print(\"Slicing a tuple\", tuple_x[0:3])\n",
    "\n",
    "print(\"###############################\")\n",
    "print(\"Immutable error while editing a tuple: \")\n",
    "# tuple_x[0] = 100"
   ]
  },
  {
   "cell_type": "markdown",
   "id": "1dc25e2c",
   "metadata": {},
   "source": [
    "##### Constructors and methods that can be applied in a tuple\n",
    "- sorted()\n",
    "- sum()\n",
    "- min()\n",
    "- max()\n",
    "\n",
    "An iterable can be converted to a list or set or tuple and vice versa.\n",
    "\n",
    "`tuple(list)` << convert from list to tuple \\\n",
    "`list(tuple)` << convert from tuple to list \\\n",
    "`set(list)` << make a set from a list \\\n",
    "`set(tuple)` << make a set from a tuple"
   ]
  },
  {
   "cell_type": "markdown",
   "id": "3786f45b",
   "metadata": {},
   "source": [
    "#### Examples"
   ]
  },
  {
   "cell_type": "code",
   "execution_count": 23,
   "id": "893504b6",
   "metadata": {},
   "outputs": [
    {
     "name": "stdout",
     "output_type": "stream",
     "text": [
      "From list to set <class 'set'>\n",
      "From tuple to set <class 'set'>\n",
      "From set to list <class 'list'>\n",
      "From tuple to list <class 'list'>\n",
      "From list to tuple <class 'tuple'>\n",
      "From set to tuple <class 'tuple'>\n"
     ]
    }
   ],
   "source": [
    "list_x = ['a', 'b', 'c', 'e', 'd', 'd']\n",
    "tuple_x = ('a', 'b', 'c', 'e', 'd', 'd')\n",
    "set_x = {'a', 'b', 'c', 'e', 'd', 'd'}\n",
    "\n",
    "print(\"From list to set\", type(set(list_x)))\n",
    "print(\"From tuple to set\", type(set(tuple_x)))\n",
    "\n",
    "print(\"From set to list\", type(list(set_x)))\n",
    "print(\"From tuple to list\", type(list(tuple_x)))\n",
    "\n",
    "print(\"From list to tuple\", type(tuple(list_x)))\n",
    "print(\"From set to tuple\", type(tuple(set_x)))"
   ]
  },
  {
   "cell_type": "markdown",
   "id": "65c0b907",
   "metadata": {},
   "source": [
    "#### 9. Dictionary <a id=\"dictionary\"><a/>\n",
    "\n",
    "A dictionary in Python refers to key:value pairs or items. This type of data structure is generally called associative arrays, hashes or hashmaps.\n",
    "\n",
    "    \n",
    "<img src=\"img/dictionary.png\" alt=\"Dictionary\" width=\"400px\" style=\"float: center\" />\n",
    "<br clear=\"left\" />\n",
    "    \n",
    "The syntax of a dictionary consists of a comma-separated list of `key:value` pairs in curly braces `{}`. A single `key:value` pair is also called an item.\n",
    "    \n",
    "`d = {\"name\": \"David\",\n",
    "      \"age\": 25,\n",
    "      \"nationality\": \"English\",\n",
    "      \"mobile\": \"0912345678\",\n",
    "      \"is_student\": True,\n",
    "      \"courses\": [\"mathematics\", \"DLCV\", \"statistics\"],\n",
    "      \"started_year\": 2023}`\n",
    "    \n",
    "We can created a dictionary by different ways:  \n",
    "    1. simply assigning the `key:value` pairs  \n",
    "    2. `key:value` pairs as two-item lists in a tuple  \n",
    "    3. `key:value` pairs as two-item tuples in a list  \n",
    "    4. zipping keys/values lists  \n",
    "    5. and so on  \n",
    "    \n",
    "Important properties of a dictionary:  \n",
    "    1. Keys are unique  \n",
    "    2. Keys are immutable type  \n",
    "    3. Value can be of any type  "
   ]
  },
  {
   "cell_type": "markdown",
   "id": "6af59f67",
   "metadata": {},
   "source": [
    "#### Examples"
   ]
  },
  {
   "cell_type": "code",
   "execution_count": 24,
   "id": "45a16582",
   "metadata": {},
   "outputs": [
    {
     "name": "stdout",
     "output_type": "stream",
     "text": [
      "Dictionary d:  {'name': 'David', 'age': 25, 'nationality': 'English', 'mobile': '0912345678', 'is_student': True, 'courses': ['mathematics', 'DLCV', 'statistics'], 'started_year': 2023}\n",
      "Dictionary from two-item tuples list {'key_1': 'value_1', 'key_2': 'value_2', 'key_3': 'value_3', 'key_4': 'value_4'}\n",
      "Dictionary from two-item lists tuple {'key_1': 'value_1', 'key_2': 'value_2', 'key_3': 'value_3', 'key_4': 'value_4'}\n"
     ]
    }
   ],
   "source": [
    "d = {\"name\": \"David\",\n",
    "      \"age\": 25,\n",
    "      \"nationality\": \"English\",\n",
    "      \"mobile\": \"0912345678\",\n",
    "      \"is_student\": True,\n",
    "      \"courses\": [\"mathematics\", \"DLCV\", \"statistics\"],\n",
    "      \"started_year\": 2023}\n",
    "\n",
    "print(\"Dictionary d: \", d)\n",
    "\n",
    "tuple_1 = (\"key_1\", \"value_1\")\n",
    "tuple_2 = (\"key_2\", \"value_2\")\n",
    "tuple_3 = (\"key_3\", \"value_3\")\n",
    "tuple_4 = (\"key_4\", \"value_4\")\n",
    "dict_1 = dict([tuple_1, tuple_2, tuple_3, tuple_4])\n",
    "print(\"Dictionary from two-item tuples list\", dict_1)\n",
    "\n",
    "list_1 = [\"key_1\", \"value_1\"]\n",
    "list_2 = [\"key_2\", \"value_2\"]\n",
    "list_3 = [\"key_3\", \"value_3\"]\n",
    "list_4 = [\"key_4\", \"value_4\"]\n",
    "dict_2 = dict([list_1, list_2, list_3, list_4])\n",
    "print(\"Dictionary from two-item lists tuple\", dict_2)"
   ]
  },
  {
   "cell_type": "markdown",
   "id": "31f99faa",
   "metadata": {},
   "source": [
    "##### Accessing the dictionary\n",
    "\n",
    "`d = {\"name\": \"David\",\n",
    "      \"age\": 25,\n",
    "      \"nationality\": \"English\",\n",
    "      \"mobile\": \"0912345678\",\n",
    "      \"is_student\": True,\n",
    "      \"courses\": [\"mathematics\", \"DLCV\", \"statistics\"],\n",
    "      \"started_year\": 2023}`\n",
    "\n",
    "`d['name']` << returns 'David'  \n",
    "`d['age']` << returns 25  \n",
    "`d['mobile']` << returns 0912345678  \n",
    "`d['program']` << returns KeyError\n",
    "\n",
    "`d.get('courses')` << returns [\"mathematics\", \"DLCV\", \"statistics\"]  \n",
    "`d.get('program')` << returns None  "
   ]
  },
  {
   "cell_type": "markdown",
   "id": "58e30489",
   "metadata": {},
   "source": [
    "#### Examples"
   ]
  },
  {
   "cell_type": "code",
   "execution_count": 25,
   "id": "9526a9d0",
   "metadata": {},
   "outputs": [
    {
     "name": "stdout",
     "output_type": "stream",
     "text": [
      "Dictionary d:  {'name': 'David', 'age': 25, 'nationality': 'English', 'mobile': '0912345678', 'is_student': True, 'courses': ['mathematics', 'DLCV', 'statistics'], 'started_year': 2023}\n",
      "['mathematics', 'DLCV', 'statistics']\n",
      "None\n",
      "David\n",
      "25\n",
      "0912345678\n",
      "###############################\n",
      "Error no key name program\n"
     ]
    },
    {
     "ename": "KeyError",
     "evalue": "'program'",
     "output_type": "error",
     "traceback": [
      "\u001b[0;31m---------------------------------------------------------------------------\u001b[0m",
      "\u001b[0;31mKeyError\u001b[0m                                  Traceback (most recent call last)",
      "Cell \u001b[0;32mIn[25], line 19\u001b[0m\n\u001b[1;32m     17\u001b[0m \u001b[39mprint\u001b[39m(\u001b[39m\"\u001b[39m\u001b[39m###############################\u001b[39m\u001b[39m\"\u001b[39m)\n\u001b[1;32m     18\u001b[0m \u001b[39mprint\u001b[39m(\u001b[39m\"\u001b[39m\u001b[39mError no key name program\u001b[39m\u001b[39m\"\u001b[39m)\n\u001b[0;32m---> 19\u001b[0m \u001b[39mprint\u001b[39m(d[\u001b[39m'\u001b[39;49m\u001b[39mprogram\u001b[39;49m\u001b[39m'\u001b[39;49m])\n",
      "\u001b[0;31mKeyError\u001b[0m: 'program'"
     ]
    }
   ],
   "source": [
    "d = {\"name\": \"David\",\n",
    "      \"age\": 25,\n",
    "      \"nationality\": \"English\",\n",
    "      \"mobile\": \"0912345678\",\n",
    "      \"is_student\": True,\n",
    "      \"courses\": [\"mathematics\", \"DLCV\", \"statistics\"],\n",
    "      \"started_year\": 2023}\n",
    "print(\"Dictionary d: \", d)\n",
    "\n",
    "print(d.get('courses')) # returns [\"mathematics\", \"DLCV\", \"statistics\"]\n",
    "print(d.get('program')) # returns None\n",
    "\n",
    "print(d['name']) # returns 'David'\n",
    "print(d['age']) # returns 25\n",
    "print(d['mobile']) # returns 0912345678\n",
    "\n",
    "print(\"###############################\")\n",
    "print(\"Error no key name program\")\n",
    "print(d['program']) # returns KeyError"
   ]
  },
  {
   "cell_type": "markdown",
   "id": "b9993e92",
   "metadata": {},
   "source": [
    "##### Manipulating the dictionary\n",
    "\n",
    "`d = {\"name\": \"David\",\n",
    "      \"age\": 25,\n",
    "      \"nationality\": \"English\",\n",
    "      \"mobile\": \"0912345678\",\n",
    "      \"is_student\": True,\n",
    "      \"courses\": [\"mathematics\", \"DLCV\", \"statistics\"],\n",
    "      \"started_year\": 2023}`\n",
    "\n",
    "1. Update a value  \n",
    "`d['name'] = 'John'`  \n",
    "\n",
    "\n",
    "2. Add a key:value pair  \n",
    "`d['program'] = 'Mechatronic'`  \n",
    "\n",
    "\n",
    "3. Remove an item from the dictionary  \n",
    "`d.pop('is_student')` << this method will return a removed value  \n",
    "`removed = d.pop('is_student')` and `print(removed)` << this printing will return `True`  \n",
    "`del d['is_student']` << this will removed the item `'is_student': True`  \n",
    "\n",
    "\n",
    "4. Clear all items in the dictionary  \n",
    "`d.clear()`\n",
    "\n",
    "\n",
    "5. Get the keys or values from the dictionary  \n",
    "`d.keys()` << this will return all keys in the dictionary  \n",
    "`d.values` << this will return all values in the dictionary"
   ]
  },
  {
   "cell_type": "markdown",
   "id": "954ed974",
   "metadata": {},
   "source": [
    "#### Examples"
   ]
  },
  {
   "cell_type": "code",
   "execution_count": null,
   "id": "1fd19b51",
   "metadata": {},
   "outputs": [
    {
     "name": "stdout",
     "output_type": "stream",
     "text": [
      "name before updating:  David\n",
      "name after updating:  John\n",
      "############################\n",
      "Added a new key 'program':\n",
      "Call the key 'program':  Mechatronic\n",
      "########################################\n",
      "pop removes a key:value pair and return the value\n",
      "The value returned from pop() True\n",
      "Dictionary after removed 'is_student':  {'name': 'David', 'age': 25, 'nationality': 'English', 'mobile': '0912345678', 'courses': ['mathematics', 'DLCV', 'statistics'], 'started_year': 2023}\n",
      "Dictionary after removing 'started_year':  {'name': 'David', 'age': 25, 'nationality': 'English', 'mobile': '0912345678', 'courses': ['mathematics', 'DLCV', 'statistics']}\n"
     ]
    }
   ],
   "source": [
    "d = {\"name\": \"David\",\n",
    "      \"age\": 25,\n",
    "      \"nationality\": \"English\",\n",
    "      \"mobile\": \"0912345678\",\n",
    "      \"is_student\": True,\n",
    "      \"courses\": [\"mathematics\", \"DLCV\", \"statistics\"],\n",
    "      \"started_year\": 2023}\n",
    "\n",
    "print(\"name before updating: \", d['name'])\n",
    "d['name'] = 'John'\n",
    "print(\"name after updating: \", d['name'])\n",
    "\n",
    "print(\"############################\")\n",
    "print(\"Added a new key 'program':\")\n",
    "d['program'] = \"Mechatronic\"\n",
    "print(\"Call the key 'program': \", d['program'])\n",
    "\n",
    "print(\"########################################\")\n",
    "print(\"pop removes a key:value pair and return the value\")\n",
    "d.pop('is_student') # this method will return a removed value\n",
    "\n",
    "d = {\"name\": \"David\",\n",
    "      \"age\": 25,\n",
    "      \"nationality\": \"English\",\n",
    "      \"mobile\": \"0912345678\",\n",
    "      \"is_student\": True,\n",
    "      \"courses\": [\"mathematics\", \"DLCV\", \"statistics\"],\n",
    "      \"started_year\": 2023}\n",
    "\n",
    "removed = d.pop('is_student') \n",
    "print(\"The value returned from pop()\", removed) # this printing will return True\n",
    "print(\"Dictionary after removed 'is_student': \", d)\n",
    "\n",
    "del d['started_year'] # this will removed the item 'started_year': 2023\n",
    "print(\"Dictionary after removing 'started_year': \", d)"
   ]
  },
  {
   "cell_type": "markdown",
   "id": "82552264",
   "metadata": {},
   "source": [
    "### Operators\n",
    "\n",
    "1. Arithmetic operators\n",
    "2. Assignment operators\n",
    "3. Comparison operators\n",
    "4. Logical operators\n",
    "\n",
    "<img src=\"img/arithmetic.png\" alt=\"Operators\" width=\"500px\" style=\"float: center\" />\n",
    "<br clear=\"left\" />\n",
    "\n",
    "<img src=\"img/assignment.png\" alt=\"Operators\" width=\"500px\" style=\"float: center\" />\n",
    "<br clear=\"left\" />\n",
    "\n",
    "<img src=\"img/comparison.png\" alt=\"Operators\" width=\"500px\" style=\"float: center\" />\n",
    "<br clear=\"left\" />\n",
    "\n",
    "<img src=\"img/logical.png\" alt=\"Operators\" width=\"500px\" style=\"float: center\" />\n",
    "<br clear=\"left\" />"
   ]
  },
  {
   "cell_type": "markdown",
   "id": "9ecbca4f",
   "metadata": {},
   "source": [
    "#### Examples"
   ]
  },
  {
   "cell_type": "code",
   "execution_count": null,
   "id": "edac6824",
   "metadata": {},
   "outputs": [
    {
     "name": "stdout",
     "output_type": "stream",
     "text": [
      "########################################\n",
      "Addition:  2\n",
      "Subtraction:  0\n",
      "Multiplication:  1\n",
      "Division:  2.0\n",
      "Modulus:  1\n",
      "Exponentiation:  8\n",
      "Floor Division:  1\n",
      "########################################\n",
      "Before additional assignment: x = 1\n",
      "After additional assignment: x = 2\n",
      "########################################\n",
      "Compare two variables whether equal or not which return boolean:  False\n"
     ]
    }
   ],
   "source": [
    "print(\"########################################\")\n",
    "# Arithmetic Operators\n",
    "print(\"Addition: \", 1 + 1)\n",
    "print(\"Subtraction: \", 1 - 1)\n",
    "print(\"Multiplication: \", 1 * 1)\n",
    "print(\"Division: \",4 / 2)\n",
    "print(\"Modulus: \", 5 % 2)\n",
    "print(\"Exponentiation: \", 2**3)\n",
    "print(\"Floor Division: \", 5//3)\n",
    "\n",
    "print(\"########################################\")\n",
    "# Assignment Operators\n",
    "x = 1 # Assignment\n",
    "print(\"Before additional assignment: x =\", x)\n",
    "x+= 1\n",
    "print(\"After additional assignment: x =\", x)\n",
    "\n",
    "print(\"########################################\")\n",
    "# Comparison Operators\n",
    "x = 1\n",
    "y = 2\n",
    "print(\"Compare two variables whether equal or not which return boolean: \", x==y) # != represents not equal to"
   ]
  },
  {
   "cell_type": "markdown",
   "id": "c7b3d6ba",
   "metadata": {},
   "source": [
    "### Conditional Statement  \n",
    "\n",
    "The conditional statement is a very useful for setting up the rules for specific action mapped with it's respective condition. The statement can be single condition or multiple conditions. Similarly, the action can be single or multiple.  \n",
    "Notice that the indentation in Python is important. You will get an error if the indentation is wrong.\n",
    "\n",
    "1. $\\textbf{if statement}$\n",
    "\n",
    "    if `condition`:\n",
    "        action\n",
    "\n",
    "2. $\\textbf{elif statement}$\n",
    "\n",
    "    if `condition 1`:\n",
    "        action 1\n",
    "    elif `condition 2`:\n",
    "        action 2\n",
    "    elif `condition 3`:\n",
    "        action 3\n",
    "\n",
    "3. $\\textbf{else  statement}$  \n",
    "\n",
    "    if `condition 1`:\n",
    "        action 1\n",
    "    elif `condition 2`:\n",
    "        action 2\n",
    "    else `other conditions`:\n",
    "        action 3\n",
    "       "
   ]
  },
  {
   "cell_type": "markdown",
   "id": "241a4bd9",
   "metadata": {},
   "source": [
    "#### Examples"
   ]
  },
  {
   "cell_type": "markdown",
   "id": "3dc7764e",
   "metadata": {},
   "source": [
    "Let's set some rules as an example:\n",
    "1. If the weather is sunny and hot, we will bring umbrellas+water and go out for dinner.\n",
    "2. If the weather is cold, we will bring coats and go out for dinner.\n",
    "3. If the weather is rain or other than above two conditions, we will not go out and dinner at home."
   ]
  },
  {
   "cell_type": "code",
   "execution_count": null,
   "id": "121187bf",
   "metadata": {},
   "outputs": [
    {
     "name": "stdout",
     "output_type": "stream",
     "text": [
      "Today is cold, and we are bringing coats.\n",
      "Go out:  True\n"
     ]
    }
   ],
   "source": [
    "# First define variables\n",
    "weather_list = ['sunny and hot', 'cold', 'rain']\n",
    "bring_items = ['umbrellas and water', 'coats']\n",
    "go_out_status = [True, False]\n",
    "\n",
    "weather = 'cold' ### Modify any of the element from weather_list \n",
    "\n",
    "if weather == weather_list[0]:\n",
    "    bring = bring_items[1]\n",
    "    print(f\"Today is {weather}, and we are bringing {bring}.\")\n",
    "    print(\"Go out: \", go_out_status[0])\n",
    "elif weather == weather_list[1]:\n",
    "    bring = bring_items[1]\n",
    "    print(f\"Today is {weather}, and we are bringing {bring}.\")\n",
    "    print(\"Go out: \", go_out_status[0])\n",
    "elif weather == weather_list[2]:\n",
    "    bring = None\n",
    "    print(f\"Today is {weather}, and we are bringing {bring}.\")\n",
    "    print(\"Go out: \", go_out_status[1])"
   ]
  },
  {
   "cell_type": "markdown",
   "id": "e0fc83b9",
   "metadata": {},
   "source": [
    "### The loops\n",
    "\n",
    "The loops are used in iterating over the items from an iterable or a collection (list, tuple, dictionary, set or string).\n",
    "\n",
    "1. `while` loop\n",
    "\n",
    "    while `boolean`:\n",
    "        action  \n",
    "        optional: stopping criteria\n",
    "\n",
    "2. `for` loop\n",
    "    for item in iterable:\n",
    "        action"
   ]
  },
  {
   "cell_type": "markdown",
   "id": "26f5e9ff",
   "metadata": {},
   "source": [
    "#### Examples"
   ]
  },
  {
   "cell_type": "markdown",
   "id": "175e867a",
   "metadata": {},
   "source": [
    "Let's create some scenarios:\n",
    "While a person is alive, his age increase 1 year every year. However, when he died at an age, the age increasing process stops. Thus, one while loop is assumed to be 1 year."
   ]
  },
  {
   "cell_type": "code",
   "execution_count": null,
   "id": "5e594c75",
   "metadata": {},
   "outputs": [
    {
     "name": "stdout",
     "output_type": "stream",
     "text": [
      "The age of a person is 13\n",
      "The age of a person is 14\n",
      "The age of a person is 15\n",
      "The age of a person is 16\n",
      "The age of a person is 17\n",
      "The age of a person is 18\n",
      "The age of a person is 19\n",
      "The age of a person is 20\n",
      "The age of a person is 21\n",
      "The age of a person is 22\n",
      "The age of a person is 23\n",
      "The age of a person is 24\n",
      "The age of a person is 25\n",
      "The age of a person is 26\n",
      "The age of a person is 27\n",
      "The age of a person is 28\n",
      "The age of a person is 29\n",
      "The age of a person is 30\n",
      "The age of a person is 31\n",
      "The age of a person is 32\n",
      "The age of a person is 33\n",
      "The age of a person is 34\n",
      "The age of a person is 35\n",
      "The age of a person is 36\n",
      "The age of a person is 37\n",
      "The age of a person is 38\n",
      "The age of a person is 39\n",
      "The age of a person is 40\n",
      "The age of a person is 41\n",
      "The age of a person is 42\n",
      "The age of a person is 43\n",
      "The age of a person is 44\n",
      "The age of a person is 45\n",
      "The age of a person is 46\n",
      "The age of a person is 47\n",
      "The age of a person is 48\n",
      "The age of a person is 49\n",
      "The age of a person is 50\n",
      "The age of a person is 51\n",
      "The age of a person is 52\n",
      "The age of a person is 53\n",
      "The age of a person is 54\n",
      "The age of a person is 55\n",
      "The age of a person is 56\n",
      "The age of a person is 57\n",
      "The age of a person is 58\n",
      "The age of a person is 59\n",
      "The age of a person is 60\n",
      "The age of a person is 61\n",
      "The age of a person is 62\n",
      "The age of a person is 63\n",
      "The age of a person is 64\n",
      "The age of a person is 65\n",
      "The age of a person is 66\n",
      "The age of a person is 67\n",
      "The age of a person is 68\n",
      "The age of a person is 69\n",
      "The age of a person is 70\n"
     ]
    }
   ],
   "source": [
    "### Define variables:\n",
    "alive = True\n",
    "age = 12\n",
    "age_of_death = 70\n",
    "\n",
    "while alive: ### infinit loop\n",
    "    age+=1\n",
    "    print('The age of a person is {}'.format(age))\n",
    "\n",
    "    if age == age_of_death:\n",
    "        alive=False"
   ]
  },
  {
   "cell_type": "markdown",
   "id": "c5ffe2ed",
   "metadata": {},
   "source": [
    "#### break\n",
    "`break` will prematurely terminates the loop.  \n",
    "\n",
    "`for item in iterable:\n",
    "    break`\n",
    "\n",
    "#### continue\n",
    "`continue` will stop executing the current loop and advance into next iteration. The remaining lines of codes after `continue` will not execute for that loop.  \n",
    "\n",
    "`for item in iterable:\n",
    "    action 1\n",
    "    continue\n",
    "    action 2` << this action for current loop will be skipped\n",
    "    \n",
    "#### pass\n",
    "`pass` will do nothing and it is just acting as a placeholder."
   ]
  },
  {
   "cell_type": "markdown",
   "id": "5c57beba",
   "metadata": {},
   "source": [
    "#### Examples"
   ]
  },
  {
   "cell_type": "markdown",
   "id": "2ba772b8",
   "metadata": {},
   "source": [
    "Let's use for loop to count 5 and each count again counts a-e strings."
   ]
  },
  {
   "cell_type": "code",
   "execution_count": null,
   "id": "aaa18344",
   "metadata": {},
   "outputs": [
    {
     "name": "stdout",
     "output_type": "stream",
     "text": [
      "Number Count 0\n",
      "At Number Count 0 String Value is a\n",
      "At Number Count 0 String Value is b\n",
      "At Number Count 0 String Value is c\n",
      "At Number Count 0 String Value is d\n",
      "At Number Count 0 String Value is e\n",
      "Number Count 1\n",
      "At Number Count 1 String Value is a\n",
      "At Number Count 1 String Value is b\n",
      "At Number Count 1 String Value is c\n",
      "At Number Count 1 String Value is d\n",
      "At Number Count 1 String Value is e\n",
      "Number Count 2\n",
      "At Number Count 2 String Value is a\n",
      "At Number Count 2 String Value is b\n",
      "At Number Count 2 String Value is c\n",
      "At Number Count 2 String Value is d\n",
      "At Number Count 2 String Value is e\n",
      "Number Count 3\n",
      "At Number Count 3 String Value is a\n",
      "At Number Count 3 String Value is b\n",
      "At Number Count 3 String Value is c\n",
      "At Number Count 3 String Value is d\n",
      "At Number Count 3 String Value is e\n",
      "Number Count 4\n",
      "At Number Count 4 String Value is a\n",
      "At Number Count 4 String Value is b\n",
      "At Number Count 4 String Value is c\n",
      "At Number Count 4 String Value is d\n",
      "At Number Count 4 String Value is e\n"
     ]
    }
   ],
   "source": [
    "string_list = ['a', 'b', 'c', 'd', 'e']\n",
    "for i in range(5):\n",
    "    print(\"Number Count\", i)\n",
    "    for j in string_list:\n",
    "        print(\"At Number Count {} String Value is {}\".format(i, j))"
   ]
  },
  {
   "cell_type": "code",
   "execution_count": null,
   "id": "715cf946",
   "metadata": {},
   "outputs": [
    {
     "name": "stdout",
     "output_type": "stream",
     "text": [
      "#####################\n",
      "Number Count 0\n",
      "#####################\n",
      "Number Count 1\n",
      "At Number Count 1 String Value is a\n",
      "At Number Count 1 String Value is b\n",
      "At Number Count 1 String Value is c\n",
      "#####################\n",
      "Number Count 2\n",
      "#####################\n",
      "Number Count 3\n",
      "At Number Count 3 String Value is a\n",
      "At Number Count 3 String Value is b\n",
      "At Number Count 3 String Value is c\n",
      "###########################\n"
     ]
    }
   ],
   "source": [
    "### pass, break, continue\n",
    "string_list = ['a', 'b', 'c', 'd', 'e']\n",
    "for i in range(5):\n",
    "    print(\"#####################\")\n",
    "    print(\"Number Count\", i)\n",
    "    if i % 2 == 0:\n",
    "        continue\n",
    "    for j in string_list:\n",
    "        print(\"At Number Count {} String Value is {}\".format(i, j))\n",
    "        if j == 'c':\n",
    "            break\n",
    "    if i == 3:\n",
    "        break\n",
    "\n",
    "print(\"###########################\")\n",
    "### Do nothing for pass statement\n",
    "for i in range(5):\n",
    "    pass"
   ]
  },
  {
   "cell_type": "markdown",
   "id": "5ba2472c",
   "metadata": {},
   "source": [
    "#### List Comprehension"
   ]
  },
  {
   "cell_type": "code",
   "execution_count": null,
   "id": "6c6e3cc5",
   "metadata": {},
   "outputs": [
    {
     "name": "stdout",
     "output_type": "stream",
     "text": [
      "myEvenList:  [0, 2, 4, 6, 8, 10, 12]\n",
      "myOddList:  [-1, 1, 3, 5, 7, 9, 11]\n"
     ]
    }
   ],
   "source": [
    "myEvenList = [0, 2, 4, 6, 8, 10, 12]\n",
    "\n",
    "myOddList = [(number-1) for number in myEvenList]\n",
    "\n",
    "print(\"myEvenList: \", myEvenList)\n",
    "print(\"myOddList: \", myOddList)"
   ]
  },
  {
   "cell_type": "markdown",
   "id": "5719b708",
   "metadata": {},
   "source": [
    "### Function"
   ]
  },
  {
   "cell_type": "markdown",
   "id": "715e40f2",
   "metadata": {},
   "source": [
    "A function is a block of statement that is reusable in a program. Normally, the codes inside a function have specific tasks to perform and return appropriate output(s).\n",
    "\n",
    "<img src=\"img/function.png\" alt=\"Functions\" width=\"500px\" style=\"float: center\" />\n",
    "<br clear=\"left\" />\n",
    "\n",
    "#### Built-in functions  \n",
    "1. `print()`\n",
    "2. `len()`\n",
    "3. `type()`"
   ]
  },
  {
   "cell_type": "markdown",
   "id": "5f602c2f",
   "metadata": {},
   "source": [
    "#### Examples"
   ]
  },
  {
   "cell_type": "markdown",
   "id": "07549790",
   "metadata": {},
   "source": [
    "Notice: all the functions and loops consist of indentation. Python is indentation sensative and it will pop up errors if you use wrong indentation."
   ]
  },
  {
   "cell_type": "markdown",
   "id": "a5a29766",
   "metadata": {},
   "source": [
    "let's start with simple function that does some operation and return the result.\n",
    "\n",
    "x = 1  \n",
    "y = 2  \n",
    "\n",
    "get the sum, min and max values and return from a function"
   ]
  },
  {
   "cell_type": "code",
   "execution_count": null,
   "id": "8ceab3be",
   "metadata": {},
   "outputs": [
    {
     "name": "stdout",
     "output_type": "stream",
     "text": [
      "sum_results:  3\n",
      "min_results:  1\n",
      "max_results:  2\n"
     ]
    }
   ],
   "source": [
    "x = 1 # Can change any value\n",
    "y = 2\n",
    "\n",
    "def operator(x, y):\n",
    "\n",
    "    sum_results = x+y\n",
    "    min_results = min(x, y)\n",
    "    max_results = max(x, y) # min() and max() functions are built-in functions of Python\n",
    "    \n",
    "    return sum_results, min_results, max_results # The results of operator() function returns a tuple\n",
    "\n",
    "sum_results, min_results, max_results = operator(x, y) # We can extract the tuple result by assigning into variables\n",
    "print('sum_results: ', sum_results)\n",
    "print('min_results: ', min_results)\n",
    "print('max_results: ', max_results)"
   ]
  },
  {
   "cell_type": "markdown",
   "id": "361c6b70",
   "metadata": {},
   "source": [
    "#### Python Keywords"
   ]
  },
  {
   "cell_type": "markdown",
   "id": "abbb0560",
   "metadata": {},
   "source": [
    "Python has a list of built-in keywords which are specific and ready to use in advance. You should avoid assigning these keywords as your variable names. You can look at the keywords by simply using the following function call `help('keywords')`."
   ]
  },
  {
   "cell_type": "code",
   "execution_count": null,
   "id": "4d5a424a",
   "metadata": {},
   "outputs": [
    {
     "name": "stdout",
     "output_type": "stream",
     "text": [
      "\n",
      "Here is a list of the Python keywords.  Enter any keyword to get more help.\n",
      "\n",
      "False               break               for                 not\n",
      "None                class               from                or\n",
      "True                continue            global              pass\n",
      "__peg_parser__      def                 if                  raise\n",
      "and                 del                 import              return\n",
      "as                  elif                in                  try\n",
      "assert              else                is                  while\n",
      "async               except              lambda              with\n",
      "await               finally             nonlocal            yield\n",
      "\n"
     ]
    }
   ],
   "source": [
    "help('keywords')"
   ]
  },
  {
   "cell_type": "markdown",
   "id": "7917cddd",
   "metadata": {},
   "source": [
    "#### Variable Scope  \n",
    "\n",
    "Python has three different variable scopes:\n",
    "- Local\n",
    "- Global\n",
    "- Enclosing"
   ]
  },
  {
   "cell_type": "markdown",
   "id": "73edf4c9",
   "metadata": {},
   "source": [
    "##### Local Scope\n",
    "A variable inside a function possesses a local scope property or called local variable. It can only be accessed within the function that defines.\n",
    "\n",
    "`def local_scope():\n",
    "    x = 11\n",
    "    print(x)`"
   ]
  },
  {
   "cell_type": "markdown",
   "id": "076d2871",
   "metadata": {},
   "source": [
    "#### Example"
   ]
  },
  {
   "cell_type": "code",
   "execution_count": null,
   "id": "0ca7fa40",
   "metadata": {},
   "outputs": [
    {
     "name": "stdout",
     "output_type": "stream",
     "text": [
      "11\n",
      "11\n"
     ]
    }
   ],
   "source": [
    " \n",
    "def local_scope():\n",
    "    global local_x\n",
    "    local_x = 11\n",
    "    print(local_x)\n",
    "\n",
    "local_scope()\n",
    "print(local_x)\n"
   ]
  },
  {
   "cell_type": "markdown",
   "id": "77689ca9",
   "metadata": {},
   "source": [
    "##### Global Scope\n",
    "A variable that is declared outside all functions possesses a global scope or global variable. It can be accessed from anywhere within or outside of the function.\n",
    "\n",
    "`global_x = 12\n",
    "def function_x():\n",
    "    print(global_x)`"
   ]
  },
  {
   "cell_type": "markdown",
   "id": "7076c44b",
   "metadata": {},
   "source": [
    "#### Example"
   ]
  },
  {
   "cell_type": "code",
   "execution_count": null,
   "id": "fa05c3d2",
   "metadata": {},
   "outputs": [
    {
     "name": "stdout",
     "output_type": "stream",
     "text": [
      "12\n",
      "12\n"
     ]
    }
   ],
   "source": [
    "global_x = 12\n",
    "def function_x():\n",
    "    print(global_x)\n",
    "    \n",
    "function_x()\n",
    "print(global_x)"
   ]
  },
  {
   "cell_type": "markdown",
   "id": "aa724c1a",
   "metadata": {},
   "source": [
    "Let's look at the differences between following functions and variables. How will you comment them."
   ]
  },
  {
   "cell_type": "code",
   "execution_count": null,
   "id": "1e82935a",
   "metadata": {},
   "outputs": [
    {
     "name": "stdout",
     "output_type": "stream",
     "text": [
      "27\n",
      "72\n",
      "27\n"
     ]
    }
   ],
   "source": [
    "global_var = 27\n",
    "\n",
    "def global_function():\n",
    "#     global global_var\n",
    "    global_var = 72\n",
    "    print(global_var)\n",
    "\n",
    "print(global_var)\n",
    "global_function()\n",
    "print(global_var)"
   ]
  },
  {
   "cell_type": "code",
   "execution_count": null,
   "id": "d9ae7f46",
   "metadata": {},
   "outputs": [
    {
     "name": "stdout",
     "output_type": "stream",
     "text": [
      "27\n",
      "72\n",
      "72\n"
     ]
    }
   ],
   "source": [
    "global_var2 = 27\n",
    "\n",
    "def global_function2():\n",
    "    global global_var2\n",
    "    global_var2 = 72\n",
    "    print(global_var2)\n",
    "\n",
    "print(global_var2)\n",
    "global_function2()\n",
    "print(global_var2)"
   ]
  },
  {
   "cell_type": "code",
   "execution_count": null,
   "id": "310cba20",
   "metadata": {},
   "outputs": [
    {
     "name": "stdout",
     "output_type": "stream",
     "text": [
      "27\n",
      "Before modification:  27\n",
      "72\n",
      "72\n"
     ]
    }
   ],
   "source": [
    "global_var = 27\n",
    "\n",
    "def global_function():\n",
    "    global global_var\n",
    "    print(\"Before modification: \", global_var)\n",
    "    global_var = 72\n",
    "    print(global_var)\n",
    "\n",
    "print(global_var)\n",
    "global_function()\n",
    "print(global_var)"
   ]
  },
  {
   "cell_type": "code",
   "execution_count": null,
   "id": "c88a67dd",
   "metadata": {},
   "outputs": [
    {
     "name": "stdout",
     "output_type": "stream",
     "text": [
      "31\n"
     ]
    }
   ],
   "source": [
    "global_var4 = 30\n",
    "\n",
    "def global_function3():\n",
    "    global global_var4\n",
    "    global_var4 = global_var4 + 1\n",
    "    print(global_var4)\n",
    "    \n",
    "global_function3()"
   ]
  },
  {
   "cell_type": "code",
   "execution_count": null,
   "id": "2441df15",
   "metadata": {},
   "outputs": [
    {
     "name": "stdout",
     "output_type": "stream",
     "text": [
      "31\n"
     ]
    }
   ],
   "source": [
    "global_var4 = 30\n",
    "\n",
    "def global_function3():\n",
    "    global global_var4\n",
    "    global_var4 = global_var4 + 1\n",
    "    print(global_var4)\n",
    "    \n",
    "global_function3()"
   ]
  },
  {
   "cell_type": "markdown",
   "id": "ba8c9100",
   "metadata": {},
   "source": [
    "#### Lambda Function  \n",
    "Lambda function does not use `def` keyword to define a function but simply uses `lambda` keyword. Here is a function how `lambda` defines.\n"
   ]
  },
  {
   "cell_type": "code",
   "execution_count": null,
   "id": "44c6bbb9",
   "metadata": {},
   "outputs": [
    {
     "name": "stdout",
     "output_type": "stream",
     "text": [
      "4\n",
      "4\n"
     ]
    }
   ],
   "source": [
    "### Normal function\n",
    "def square(x):\n",
    "    return x**2\n",
    "\n",
    "print(square(2))\n",
    "\n",
    "### Lambda function\n",
    "square2 = lambda x: x**2 # lambda function is defined as >> lambda variable: expression/operation\n",
    "print(square2(2))"
   ]
  },
  {
   "cell_type": "markdown",
   "id": "a607e4cd",
   "metadata": {},
   "source": [
    "### Class and Object"
   ]
  },
  {
   "cell_type": "markdown",
   "id": "988e3a61",
   "metadata": {},
   "source": [
    "Python is an object-oriented programming language. Everything in Python is an object. \n",
    "\n",
    "In Python, a class is a blueprint for creating objects (instances) that share common attributes (data) and behaviors (methods). A class defines a new data type, allowing you to create multiple instances of that type with consistent properties and behaviors.\n",
    "\n",
    "A class contains attributes (variables) and methods (functions) that define the behavior of objects created from the class. The attributes store data related to the class, while the methods define the actions or operations that can be performed on the objects."
   ]
  },
  {
   "cell_type": "code",
   "execution_count": null,
   "id": "c95efe2f",
   "metadata": {},
   "outputs": [
    {
     "name": "stdout",
     "output_type": "stream",
     "text": [
      "Buddy is 3 years old.\n",
      "Buddy is barking!\n",
      "Max is 5 years old.\n",
      "Max is barking!\n"
     ]
    }
   ],
   "source": [
    "class Dog:\n",
    "    def __init__(self, name, age):\n",
    "        self.name = name\n",
    "        self.age = age\n",
    "\n",
    "    def bark(self):\n",
    "        print(f\"{self.name} is barking!\")\n",
    "\n",
    "# Creating instances of the Dog class\n",
    "dog1 = Dog(\"Buddy\", 3)\n",
    "dog2 = Dog(\"Max\", 5)\n",
    "\n",
    "# Accessing attributes and calling methods\n",
    "print(f\"{dog1.name} is {dog1.age} years old.\")\n",
    "dog1.bark()\n",
    "\n",
    "print(f\"{dog2.name} is {dog2.age} years old.\")\n",
    "dog2.bark()"
   ]
  },
  {
   "cell_type": "code",
   "execution_count": null,
   "id": "2090cda1",
   "metadata": {},
   "outputs": [
    {
     "name": "stdout",
     "output_type": "stream",
     "text": [
      "Alice 30\n",
      "Bob 25\n"
     ]
    }
   ],
   "source": [
    "class Person:\n",
    "    def __init__(self, name, age):\n",
    "        self.name = name\n",
    "        self.age = age\n",
    "\n",
    "# Creating instances of the Person class\n",
    "person1 = Person(\"Alice\", 30)\n",
    "person2 = Person(\"Bob\", 25)\n",
    "\n",
    "print(person1.name, person1.age)  # Output: Alice 30\n",
    "print(person2.name, person2.age)  # Output: Bob 25"
   ]
  },
  {
   "cell_type": "code",
   "execution_count": null,
   "id": "c1b77600",
   "metadata": {},
   "outputs": [
    {
     "name": "stdout",
     "output_type": "stream",
     "text": [
      "This is init call.\n"
     ]
    }
   ],
   "source": [
    "class InitCall:\n",
    "    def __init__(self):\n",
    "        print(\"This is init call.\")\n",
    "        \n",
    "#     def yourName(self, name):\n",
    "#         return name\n",
    "    \n",
    "initCall = InitCall()"
   ]
  },
  {
   "cell_type": "markdown",
   "id": "b8514908",
   "metadata": {},
   "source": [
    "#### Inheritance  \n"
   ]
  },
  {
   "cell_type": "markdown",
   "id": "bd315463",
   "metadata": {},
   "source": [
    "An inheritance is the ability of a class carrying all the properties of an old or existing class. The inheriting class is known as a child class, and the class being inherited is known as parent or base class."
   ]
  },
  {
   "cell_type": "markdown",
   "id": "f7ae5f9a",
   "metadata": {},
   "source": [
    "#### Example"
   ]
  },
  {
   "cell_type": "code",
   "execution_count": null,
   "id": "51d55700",
   "metadata": {},
   "outputs": [
    {
     "name": "stdout",
     "output_type": "stream",
     "text": [
      "I'm a Vehicle!\n",
      "I'm a Vehicle!\n"
     ]
    }
   ],
   "source": [
    "# base class\n",
    "class Vehicle():\n",
    "    def description(self):\n",
    "        print(\"I'm a Vehicle!\")\n",
    "\n",
    "# subclass\n",
    "class Car(Vehicle):\n",
    "    pass\n",
    "\n",
    "# create an object from each class\n",
    "v = Vehicle()\n",
    "c = Car()\n",
    "\n",
    "v.description()\n",
    "# Prints I'm a Vehicle!\n",
    "c.description()\n",
    "# Prints I'm a Vehicle!"
   ]
  },
  {
   "cell_type": "markdown",
   "id": "b25ac572",
   "metadata": {},
   "source": [
    "We can overide a method from the parent class as well as we can add more methods inside the child class."
   ]
  },
  {
   "cell_type": "markdown",
   "id": "5dd04aef",
   "metadata": {},
   "source": [
    "#### Example"
   ]
  },
  {
   "cell_type": "code",
   "execution_count": null,
   "id": "34530c8f",
   "metadata": {},
   "outputs": [
    {
     "name": "stdout",
     "output_type": "stream",
     "text": [
      "I'm a Vehicle!\n",
      "I'm a Car!\n"
     ]
    }
   ],
   "source": [
    "### Overiding\n",
    "# base class\n",
    "class Vehicle():\n",
    "    def description(self):\n",
    "        print(\"I'm a Vehicle!\")\n",
    "\n",
    "# subclass\n",
    "class Car(Vehicle):\n",
    "    def description(self):\n",
    "        print(\"I'm a Car!\")\n",
    "\n",
    "# create an object from each class\n",
    "v = Vehicle()\n",
    "c = Car()\n",
    "\n",
    "v.description()\n",
    "# Prints I'm a Vehicle!\n",
    "c.description()\n",
    "# Prints I'm a Car!"
   ]
  },
  {
   "cell_type": "code",
   "execution_count": null,
   "id": "40b1733b",
   "metadata": {},
   "outputs": [
    {
     "name": "stdout",
     "output_type": "stream",
     "text": [
      "Now traveling at 25 miles per hour\n",
      "Now traveling at 25 miles per hour\n"
     ]
    }
   ],
   "source": [
    "# a parent class\n",
    "class Vehicle():\n",
    "    def description(self):\n",
    "        print(\"I'm a\", self.color, \"Vehicle\")\n",
    "    def setSpeed(self, speed):\n",
    "        print(\"Now traveling at\", speed, \"miles per hour\")\n",
    "\n",
    "# subclass\n",
    "class Car(Vehicle):\n",
    "    def description(self):\n",
    "        print(\"I'm a\", self.color, self.style)\n",
    "    def setSpeed(self, speed):\n",
    "        print(\"Now traveling at\", speed,\"miles per hour\")    \n",
    "\n",
    "# create an object from each class\n",
    "v = Vehicle()\n",
    "c = Car()\n",
    "\n",
    "c.setSpeed(25)\n",
    "# Prints Now traveling at 25 miles per hour\n",
    "v.setSpeed(25)\n",
    "# Triggers AttributeError: 'Vehicle' object has no attribute 'setSpeed'"
   ]
  },
  {
   "cell_type": "markdown",
   "id": "cee66a0b",
   "metadata": {},
   "source": [
    "`super()` function is used to add more parameter(s) inside the `__init__()` function of the child class. Those parameter(s) are not present inside the `__init__()` of the parent class."
   ]
  },
  {
   "cell_type": "code",
   "execution_count": null,
   "id": "ee95f1e8",
   "metadata": {},
   "outputs": [
    {
     "name": "stdout",
     "output_type": "stream",
     "text": [
      "I'm a Red Vehicle\n",
      "I'm a Black SUV\n"
     ]
    }
   ],
   "source": [
    "# base class\n",
    "class Vehicle():\n",
    "    def __init__(self, color):\n",
    "        self.color = color\n",
    "    def description(self):\n",
    "        print(\"I'm a\", self.color, \"Vehicle\")\n",
    "\n",
    "# subclass\n",
    "class Car(Vehicle):\n",
    "    def __init__(self, color, style):\n",
    "        super().__init__(color)    # invoke Vehicle’s __init__() method\n",
    "        self.style = style\n",
    "    def description(self):\n",
    "        print(\"I'm a\", self.color, self.style)\n",
    "\n",
    "# create an object from each class\n",
    "v = Vehicle('Red')\n",
    "c = Car('Black', 'SUV')\n",
    "\n",
    "v.description()\n",
    "# Prints I'm a Red Vehicle\n",
    "c.description()\n",
    "# Prints I'm a Black SUV"
   ]
  },
  {
   "cell_type": "markdown",
   "id": "3982267b",
   "metadata": {},
   "source": [
    "### File Handling"
   ]
  },
  {
   "cell_type": "markdown",
   "id": "435705db",
   "metadata": {},
   "source": [
    "#### Read/Write `.txt` files\n",
    "\n",
    "\n",
    "\n",
    "<img src='img/filemode.png' alt=\"File Modes\" width=\"400px\" style=\"float: center\" />\n",
    "<br clear=\"left\" />"
   ]
  },
  {
   "cell_type": "code",
   "execution_count": null,
   "id": "bd341233",
   "metadata": {},
   "outputs": [
    {
     "name": "stdout",
     "output_type": "stream",
     "text": [
      "This is the lab session of deep learning for computer vision course. This course is offering on Mondays and Fridays.\n",
      "We are now having a lab session for Python basics.\n",
      "\n"
     ]
    }
   ],
   "source": [
    "f = open('data/sample.txt')\n",
    "print(f.read())"
   ]
  },
  {
   "cell_type": "code",
   "execution_count": null,
   "id": "df188e43",
   "metadata": {},
   "outputs": [
    {
     "name": "stdout",
     "output_type": "stream",
     "text": [
      "This is the lab session of deep learning for computer vision course. This course is offering on Mondays and Fridays.\n",
      "We are now having a lab session for Python basics.\n",
      "\n"
     ]
    }
   ],
   "source": [
    "with open('data/sample.txt', 'r') as f:\n",
    "    data = f.read()\n",
    "f.close()\n",
    "\n",
    "print(data)"
   ]
  },
  {
   "cell_type": "code",
   "execution_count": null,
   "id": "07152ae3",
   "metadata": {},
   "outputs": [],
   "source": [
    "text = 'I am learning Python.'\n",
    "with open('data/sample2.txt', 'w') as f: # if you want to append, you can use 'a'\n",
    "    f.write('\\n'+text) # you can skip with '\\n'\n",
    "f.close()"
   ]
  },
  {
   "cell_type": "markdown",
   "id": "abf1209e",
   "metadata": {},
   "source": [
    "### Other useful Python operations you can explore  \n",
    "1. Regular Expression\n",
    "2. Decorators\n",
    "3. @Property\n",
    "4. Exception Handling\n",
    "5. Read/write .csv and other binary files  \n",
    "and many more"
   ]
  },
  {
   "cell_type": "markdown",
   "id": "20a049c3",
   "metadata": {},
   "source": [
    "### Assignment"
   ]
  },
  {
   "cell_type": "markdown",
   "id": "1ab50758",
   "metadata": {},
   "source": [
    "#### Exercise 1"
   ]
  },
  {
   "cell_type": "markdown",
   "id": "bd62369c",
   "metadata": {},
   "source": [
    "We have Aug25 to Aug31 and each day has the following properties:\n",
    "\n",
    "1. date number (25 to 31)\n",
    "2. Monday to Sunday as days (strings)\n",
    "3. is_weekend (boolean)\n",
    "4. have_class (boolean)\n",
    "\n",
    "if the day is Monday and Friday, we have class.\n",
    "\n",
    "Define the seven variables in the dictionary format and print Aug25's properties using keys.  \n",
    "\n",
    "Output example:  \n",
    "`Date = August 25, Day = Friday, Weekend = False, Have class = True.`"
   ]
  },
  {
   "cell_type": "code",
   "execution_count": null,
   "id": "0df02247",
   "metadata": {},
   "outputs": [
    {
     "name": "stdout",
     "output_type": "stream",
     "text": [
      "Date = August 25, Day = Friday, Weekend = False, Have class = True.\n"
     ]
    }
   ],
   "source": [
    "days_properties = {\n",
    "    25: {\n",
    "        'Date': 'August 25',\n",
    "        'Day': 'Friday',\n",
    "        'Weekend': False,\n",
    "        'Have class': True\n",
    "    },\n",
    "    26: {\n",
    "        'Date': 'August 26',\n",
    "        'Day': 'Saturday',\n",
    "        'Weekend': True,\n",
    "        'Have class': False\n",
    "    },\n",
    "    27: {\n",
    "        'Date': 'August 27',\n",
    "        'Day': 'Sunday',\n",
    "        'Weekend': True,\n",
    "        'Have class': False\n",
    "    },\n",
    "    28: {\n",
    "        'Date': 'August 28',\n",
    "        'Day': 'Monday',\n",
    "        'Weekend': False,\n",
    "        'Have class': True\n",
    "    },\n",
    "    29: {\n",
    "        'Date': 'August 29',\n",
    "        'Day': 'Tuesday',\n",
    "        'Weekend': False,\n",
    "        'Have class': False\n",
    "    },\n",
    "    30: {\n",
    "        'Date': 'August 30',\n",
    "        'Day': 'Wednesday',\n",
    "        'Weekend': False,\n",
    "        'Have class': False\n",
    "    },\n",
    "    31: {\n",
    "        'Date': 'August 31',\n",
    "        'Day': 'Thursday',\n",
    "        'Weekend': False,\n",
    "        'Have class': False\n",
    "    }\n",
    "}\n",
    "\n",
    "aug_25_properties = days_properties[25]\n",
    "print(f\"Date = {aug_25_properties['Date']}, Day = {aug_25_properties['Day']}, Weekend = {aug_25_properties['Weekend']}, Have class = {aug_25_properties['Have class']}.\")"
   ]
  },
  {
   "cell_type": "markdown",
   "id": "32059cb2",
   "metadata": {},
   "source": [
    "#### Exercise 2"
   ]
  },
  {
   "cell_type": "markdown",
   "id": "b7887c7e",
   "metadata": {},
   "source": [
    "Print out all the days (Monday to Sunday) with it's four statuses using `for loop` and `if statement`.  \n",
    "\n",
    "hints: you need to make all the seven dictionaries iterable in order to loop.\n",
    "\n",
    "output example:  \n",
    "`August 25, Weekday, Have class.`  \n",
    "`August 26, Weekend, No class.` and so on."
   ]
  },
  {
   "cell_type": "code",
   "execution_count": null,
   "id": "108e5614",
   "metadata": {},
   "outputs": [
    {
     "name": "stdout",
     "output_type": "stream",
     "text": [
      "August 25, Weekday, Have class.\n",
      "August 26, Weekend, No class.\n",
      "August 27, Weekend, No class.\n",
      "August 28, Weekday, Have class.\n",
      "August 29, Weekday, No class.\n",
      "August 30, Weekday, No class.\n",
      "August 31, Weekday, No class.\n"
     ]
    }
   ],
   "source": [
    "for day_number in days_properties:\n",
    "    day_info = days_properties[day_number]\n",
    "    date = day_info['Date']\n",
    "    day = day_info['Day']\n",
    "    weekend = day_info['Weekend']\n",
    "    have_class = day_info['Have class']\n",
    "\n",
    "    status = \"\"\n",
    "    if weekend:\n",
    "        status += \"Weekend, \"\n",
    "    else:\n",
    "        status += \"Weekday, \"\n",
    "    \n",
    "    if have_class:\n",
    "        status += \"Have class.\"\n",
    "    else:\n",
    "        status += \"No class.\"\n",
    "\n",
    "    print(f\"{date}, {status}\")"
   ]
  },
  {
   "cell_type": "markdown",
   "id": "f75f2376",
   "metadata": {},
   "source": [
    "#### Exercise 3"
   ]
  },
  {
   "cell_type": "markdown",
   "id": "e5132fff",
   "metadata": {},
   "source": [
    "Write a function that receives a dictionary variable (assume it's today) you defined in exercise 1 and returns a statement:  \n",
    "\n",
    "Output example:  \n",
    "`Today is {Friday}. It is a {weekday} and we {have} class.`  \n",
    "\n",
    "run the function two times with arguments Aug26 and Aug28 and get the output for each."
   ]
  },
  {
   "cell_type": "code",
   "execution_count": null,
   "id": "49a0579c",
   "metadata": {},
   "outputs": [
    {
     "name": "stdout",
     "output_type": "stream",
     "text": [
      "Today is Saturday. It is a weekend and we do not have class.\n",
      "Today is Monday. It is a weekday and we have class.\n"
     ]
    }
   ],
   "source": [
    "def generate_day_status(day_properties):\n",
    "    date = day_properties['Date']\n",
    "    day = day_properties['Day']\n",
    "    weekend = day_properties['Weekend']\n",
    "    have_class = day_properties['Have class']\n",
    "\n",
    "    weekday_status = \"weekday\" if not weekend else \"weekend\"\n",
    "    class_status = \"have\" if have_class else \"do not have\"\n",
    "\n",
    "    statement = f\"Today is {day}. It is a {weekday_status} and we {class_status} class.\"\n",
    "    return statement\n",
    "\n",
    "aug_26_status = generate_day_status(days_properties[26])\n",
    "aug_28_status = generate_day_status(days_properties[28])\n",
    "\n",
    "print(aug_26_status)\n",
    "print(aug_28_status)"
   ]
  },
  {
   "cell_type": "markdown",
   "id": "c7290ac3",
   "metadata": {},
   "source": [
    "#### Exercise 4"
   ]
  },
  {
   "cell_type": "markdown",
   "id": "062afdd3",
   "metadata": {},
   "source": [
    "Creat a new class called `MyDay`, inherit the `Day` class as a parent class and add the following.  \n",
    "1. By using `super()` function, the `__init__()` receive additional argument named `date`\n",
    "2. Write a function(any name) that prints the same output as `Exercise 3` by using the `day` and `date` parameters from the class you define. Notice that you have to filter a condition whether it has `have_class` or not on the day you pass.\n",
    "3. Finally, you create an instance and print the output that you want."
   ]
  },
  {
   "cell_type": "code",
   "execution_count": null,
   "id": "82568895",
   "metadata": {},
   "outputs": [
    {
     "name": "stdout",
     "output_type": "stream",
     "text": [
      "Today is Friday. It is a weekday and we have class.\n"
     ]
    }
   ],
   "source": [
    "### Please do not modify the given class\n",
    "class Day:\n",
    "    def __init__(self, day): # 'day' can be any day between \"Monday\" to \"Sunday\"\n",
    "        self.day = day\n",
    "        self.dayOfWeek = self.whichDay(self.day)\n",
    "\n",
    "    def whichDay(self, day):\n",
    "        if self.day == 'Saturday' or self.day == 'Sunday':\n",
    "            return 'weekend'\n",
    "        else:\n",
    "            return 'weekday'\n",
    "\n",
    "class MyDay(Day):\n",
    "    def __init__(self, day, date):\n",
    "        super().__init__(day)\n",
    "        self.date = date\n",
    "\n",
    "    def day_status(self):\n",
    "        if self.dayOfWeek == 'weekday':\n",
    "            weekday_status = 'weekday'\n",
    "            if self.day != 'Saturday' and self.day != 'Sunday':\n",
    "                class_status = 'have'\n",
    "            else:\n",
    "                class_status = 'do not have'\n",
    "        else:\n",
    "            weekday_status = 'weekend'\n",
    "            class_status = 'do not have'\n",
    "        \n",
    "        return f\"Today is {self.day}. It is a {weekday_status} and we {class_status} class.\"\n",
    "\n",
    "my_aug26 = MyDay(day=\"Friday\", date=\"Aug 26\")\n",
    "print(my_aug26.day_status())"
   ]
  },
  {
   "cell_type": "markdown",
   "id": "cc9229e5",
   "metadata": {},
   "source": [
    "#### Exercise 5"
   ]
  },
  {
   "cell_type": "markdown",
   "id": "8705551c",
   "metadata": {},
   "source": [
    "By using the given `text` docstring variable, extract every word without period and write them into a .txt file with tab spacings. Then re-read the file into a variable called `my_list` and print out the first and second index names 'Lorem' and 'Ipsum'."
   ]
  },
  {
   "cell_type": "code",
   "execution_count": null,
   "id": "d4ed6500",
   "metadata": {},
   "outputs": [],
   "source": [
    "text = \"\"\"Lorem Ipsum is simply dummy text of the printing and typesetting industry. Lorem Ipsum has been the industry's standard dummy text ever since the 1500s, when an unknown printer took a galley of type and scrambled it to make a type specimen book. It has survived not only five centuries, but also the leap into electronic typesetting, remaining essentially unchanged. It was popularised in the 1960s with the release of Letraset sheets containing Lorem Ipsum passages, and more recently with desktop publishing software like Aldus PageMaker including versions of Lorem Ipsum.\"\"\""
   ]
  },
  {
   "cell_type": "code",
   "execution_count": null,
   "id": "01009031",
   "metadata": {},
   "outputs": [
    {
     "name": "stdout",
     "output_type": "stream",
     "text": [
      "First index: Lorem\n",
      "Second index: Ipsum\n"
     ]
    }
   ],
   "source": [
    "words = []\n",
    "for word in text.split():\n",
    "    words.append(word.strip('.'))\n",
    "\n",
    "with open('words.txt', 'w') as file:\n",
    "    file.write('\\t'.join(words))\n",
    "\n",
    "with open('words.txt', 'r') as file:\n",
    "    my_list = file.read().split('\\t')\n",
    "\n",
    "print(f\"First index: {my_list[0]}\")\n",
    "print(f\"Second index: {my_list[1]}\")\n"
   ]
  }
 ],
 "metadata": {
  "kernelspec": {
   "display_name": "Python 3 (ipykernel)",
   "language": "python",
   "name": "python3"
  },
  "language_info": {
   "codemirror_mode": {
    "name": "ipython",
    "version": 3
   },
   "file_extension": ".py",
   "mimetype": "text/x-python",
   "name": "python",
   "nbconvert_exporter": "python",
   "pygments_lexer": "ipython3",
   "version": "3.9.17"
  },
  "widgets": {
   "application/vnd.jupyter.widget-state+json": {
    "state": {},
    "version_major": 2,
    "version_minor": 0
   }
  }
 },
 "nbformat": 4,
 "nbformat_minor": 5
}
